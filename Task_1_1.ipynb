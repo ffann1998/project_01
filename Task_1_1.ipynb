{
  "nbformat": 4,
  "nbformat_minor": 0,
  "metadata": {
    "colab": {
      "provenance": []
    },
    "kernelspec": {
      "name": "python3",
      "display_name": "Python 3"
    },
    "language_info": {
      "name": "python"
    }
  },
  "cells": [
    {
      "cell_type": "code",
      "execution_count": 21,
      "metadata": {
        "colab": {
          "base_uri": "https://localhost:8080/",
          "height": 35
        },
        "id": "W_zD8g-7i7Bj",
        "outputId": "06ea832f-309c-4f23-b207-6e13edfdbf7a"
      },
      "outputs": [
        {
          "output_type": "execute_result",
          "data": {
            "text/plain": [
              "\"Waste a Momen New Salvation Staying' Alive Start Me Up\""
            ],
            "application/vnd.google.colaboratory.intrinsic+json": {
              "type": "string"
            }
          },
          "metadata": {},
          "execution_count": 21
        }
      ],
      "source": [
        "\n",
        "my_favorite_songs = 'Waste a Momen, Staying\\' Alive, A Sorta Fairytale, Start Me Up, New Salvation'\n",
        "\n",
        "my_favorite_songs[0:13] + ' ' + my_favorite_songs[-13:] + ' ' + my_favorite_songs[15:29] + ' ' +  my_favorite_songs[-26:-15]"
      ]
    },
    {
      "cell_type": "code",
      "source": [],
      "metadata": {
        "id": "scy6DJoEkush"
      },
      "execution_count": 1,
      "outputs": []
    }
  ]
}