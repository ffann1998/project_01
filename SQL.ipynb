{
  "nbformat": 4,
  "nbformat_minor": 0,
  "metadata": {
    "colab": {
      "provenance": []
    },
    "kernelspec": {
      "name": "python3",
      "display_name": "Python 3"
    },
    "language_info": {
      "name": "python"
    }
  },
  "cells": [
    {
      "cell_type": "code",
      "execution_count": 1,
      "metadata": {
        "id": "CdMQhHBBhIjt"
      },
      "outputs": [],
      "source": [
        "# Создание таблицы Students\n",
        "\n",
        "import sqlite3\n",
        "\n",
        "connection = sqlite3.connect('students.db')\n",
        "cursor = connection.cursor()\n",
        "query = \"\"\"CREATE TABLE Students (\n",
        "Student_Id INTEGER NOT NULL PRIMARY KEY,\n",
        "Student_Name TEXT NOT NULL,\n",
        "School_Id INTEGER NOT NULL);\"\"\"\n",
        "cursor.execute(query)\n",
        "connection.commit()\n",
        "connection.close()"
      ]
    },
    {
      "cell_type": "code",
      "source": [
        "# Наполнение таблицы Students\n",
        "\n",
        "connection = sqlite3.connect('students.db')\n",
        "cursor = connection.cursor()\n",
        "query = \"\"\"INSERT INTO Students (Student_Id , Student_Name , School_Id)\n",
        "VALUES\n",
        "('201', 'Иван', 1),\n",
        "('202', 'Петр', 2),\n",
        "('203', 'Анастасия', 3),\n",
        "('204', 'Игорь', 4);\"\"\"\n",
        "cursor.execute(query)\n",
        "connection.commit()\n",
        "connection.close()"
      ],
      "metadata": {
        "id": "XOkI0f0YhMnK"
      },
      "execution_count": 2,
      "outputs": []
    },
    {
      "cell_type": "code",
      "source": [
        "# Вывод информации о школе и студенте\n",
        "\n",
        "import sqlite3\n",
        "\n",
        "def get_school_name(school_id):\n",
        "  con = sqlite3.connect(\"Schools.db\")\n",
        "  cur = con.cursor()\n",
        "  query = \"SELECT * FROM School WHERE School_Id = ?\"\n",
        "  cur.execute(query,(school_id,))\n",
        "  rec = cur.fetchone()\n",
        "  con.close()\n",
        "  return rec[1]\n",
        "\n",
        "def get_student(student_id):\n",
        "  con = sqlite3.connect(\"students.db\")\n",
        "  cur = con.cursor()\n",
        "  query = \"SELECT * FROM Students WHERE Student_id = ?\"\n",
        "  cur.execute(query,(student_id,))\n",
        "  rec = cur.fetchall()\n",
        "  for raw in rec:\n",
        "    print (\"ID студента:\", raw[0])\n",
        "    print (\"Имя студента:\", raw[1])\n",
        "    print (\"ID школы:\", raw[2])\n",
        "    print (\"Название школы:\",get_school_name(raw[2]))\n",
        "  con.close()\n",
        "get_student(201)"
      ],
      "metadata": {
        "colab": {
          "base_uri": "https://localhost:8080/"
        },
        "id": "RcGsKXGuhPFp",
        "outputId": "02d32c7e-1055-48f1-bc73-8d594e5ab8b8"
      },
      "execution_count": 3,
      "outputs": [
        {
          "output_type": "stream",
          "name": "stdout",
          "text": [
            "ID студента: 201\n",
            "Имя студента: Иван\n",
            "ID школы: 1\n",
            "Название школы: Протон\n"
          ]
        }
      ]
    }
  ]
}